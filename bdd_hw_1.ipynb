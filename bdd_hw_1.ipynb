{
 "cells": [
  {
   "cell_type": "markdown",
   "id": "4f722675",
   "metadata": {},
   "source": [
    "# Doctor-Hospital Matching With Hungarian Algorithm"
   ]
  },
  {
   "cell_type": "markdown",
   "id": "7862804e",
   "metadata": {},
   "source": [
    "#### N doctors are matched to K hospitals with this algorithm. The inputs given are:\n",
    "             1)Number of doctors\n",
    "             2)Number of hospitals\n",
    "             3)Capacity of hospitals\n",
    "             4)Preference of each doctor\n",
    "             \n",
    "#### The assignment of doctors to hospitals is the result."
   ]
  },
  {
   "cell_type": "markdown",
   "id": "26cf5380",
   "metadata": {},
   "source": [
    "Import numpy and pandas modules"
   ]
  },
  {
   "cell_type": "code",
   "execution_count": 1,
   "id": "f55d2e4e",
   "metadata": {},
   "outputs": [],
   "source": [
    "import numpy as np  \n",
    "import pandas as pd"
   ]
  },
  {
   "cell_type": "markdown",
   "id": "125aba60",
   "metadata": {},
   "source": [
    "Input the number of doctors, hospitals and capacity of the hospital"
   ]
  },
  {
   "cell_type": "code",
   "execution_count": 2,
   "id": "4b9b8515",
   "metadata": {},
   "outputs": [
    {
     "name": "stdout",
     "output_type": "stream",
     "text": [
      "Enter number of doctors:4\n",
      "Enter number of hospitals:3\n",
      "Enter the capacity of the hospitals:2\n"
     ]
    }
   ],
   "source": [
    "doc = int(input(\"Enter number of doctors:\"))\n",
    "hosp = int(input(\"Enter number of hospitals:\"))\n",
    "cap = int(input(\"Enter the capacity of the hospitals:\"))"
   ]
  },
  {
   "cell_type": "markdown",
   "id": "92caffb1",
   "metadata": {},
   "source": [
    "Input the preference of each doctor"
   ]
  },
  {
   "cell_type": "code",
   "execution_count": 3,
   "id": "cf0d34ed",
   "metadata": {},
   "outputs": [
    {
     "name": "stdout",
     "output_type": "stream",
     "text": [
      "Enter preference for doctor 1:1,2,3\n",
      "Enter preference for doctor 2:3,2,1\n",
      "Enter preference for doctor 3:2,1,3\n",
      "Enter preference for doctor 4:3,1,2\n",
      "[(1, 2, 3), (3, 2, 1), (2, 1, 3), (3, 1, 2)]\n"
     ]
    }
   ],
   "source": [
    "preference = []\n",
    "p = []\n",
    "for i in range(doc):\n",
    "    p = eval(input(\"Enter preference for doctor \" + str(i+1) + \":\"))\n",
    "    preference.append(p)\n",
    "print(preference)"
   ]
  },
  {
   "cell_type": "markdown",
   "id": "76b7c0d7",
   "metadata": {},
   "source": [
    "Create a matrix with doctors' preferences."
   ]
  },
  {
   "cell_type": "code",
   "execution_count": 4,
   "id": "4086d51d",
   "metadata": {},
   "outputs": [
    {
     "name": "stdout",
     "output_type": "stream",
     "text": [
      "[[1 2 3 1 2 3]\n",
      " [3 2 1 3 2 1]\n",
      " [2 1 3 2 1 3]\n",
      " [3 1 2 3 1 2]]\n"
     ]
    }
   ],
   "source": [
    "matrix_1 = np.array(preference)\n",
    "matrix_2 = np.tile(matrix_1,cap)\n",
    "print(matrix_2)"
   ]
  },
  {
   "cell_type": "markdown",
   "id": "8ca3234b",
   "metadata": {},
   "source": [
    "If the matrix is rectangular, modify it into a n x n square matrix and assign a number higher than the number of hospitals to the dummy row elements."
   ]
  },
  {
   "cell_type": "code",
   "execution_count": 5,
   "id": "10d718ff",
   "metadata": {},
   "outputs": [
    {
     "name": "stdout",
     "output_type": "stream",
     "text": [
      "[[1 2 3 1 2 3]\n",
      " [3 2 1 3 2 1]\n",
      " [2 1 3 2 1 3]\n",
      " [3 1 2 3 1 2]\n",
      " [4 4 4 4 4 4]\n",
      " [4 4 4 4 4 4]]\n"
     ]
    }
   ],
   "source": [
    "row_num,col_num = np.shape(matrix_2)\n",
    "if row_num != col_num:\n",
    "    d = hosp+1\n",
    "    if row_num < col_num:\n",
    "        arr = np.array([d for _ in range(col_num)])\n",
    "        x=np.stack([arr for _ in range(col_num-row_num)], axis=0)\n",
    "        matrix_2 = np.append(matrix_2,x,axis=0)\n",
    "    else:\n",
    "        arr = np.array([d for _ in range(row_num)])\n",
    "        x=np.stack([arr for _ in range(row_num-col_num)], axis=1)\n",
    "        matrix_2 = np.append(matrix_2,x,axis=1)  \n",
    "print(matrix_2)"
   ]
  },
  {
   "cell_type": "markdown",
   "id": "c78e8ac8",
   "metadata": {},
   "source": [
    "Now the hungarian algorithm is implemented. \n",
    "\n",
    "Subtract row minima and row maxima"
   ]
  },
  {
   "cell_type": "code",
   "execution_count": 6,
   "id": "afdcd333",
   "metadata": {},
   "outputs": [
    {
     "name": "stdout",
     "output_type": "stream",
     "text": [
      "[[0 1 2 0 1 2]\n",
      " [2 1 0 2 1 0]\n",
      " [1 0 2 1 0 2]\n",
      " [2 0 1 2 0 1]\n",
      " [0 0 0 0 0 0]\n",
      " [0 0 0 0 0 0]]\n"
     ]
    }
   ],
   "source": [
    "row_num,col_num = np.shape(matrix_2)\n",
    "for r in range(row_num):\n",
    "    matrix_2[r,:]=matrix_2[r,:]-np.min(matrix_2[r,:])\n",
    "\n",
    "for cl in range(col_num):\n",
    "    matrix_2[:,cl]=matrix_2[:,cl]-np.min(matrix_2[:,cl])\n",
    "    \n",
    "print(matrix_2)"
   ]
  },
  {
   "cell_type": "markdown",
   "id": "9e1ea112",
   "metadata": {},
   "source": [
    "Cover all zeros with a minimum number of lines, create additional zeros if the number of lines is less than n. Optimal assignment is then implemented."
   ]
  },
  {
   "cell_type": "code",
   "execution_count": 7,
   "id": "c49d9cef",
   "metadata": {},
   "outputs": [
    {
     "name": "stdout",
     "output_type": "stream",
     "text": [
      "[[0 0]\n",
      " [0 3]\n",
      " [1 2]\n",
      " [1 5]\n",
      " [2 1]\n",
      " [2 4]\n",
      " [3 1]\n",
      " [3 4]\n",
      " [4 0]\n",
      " [4 1]\n",
      " [4 2]\n",
      " [4 3]\n",
      " [4 4]\n",
      " [4 5]\n",
      " [5 0]\n",
      " [5 1]\n",
      " [5 2]\n",
      " [5 3]\n",
      " [5 4]\n",
      " [5 5]]\n"
     ]
    }
   ],
   "source": [
    "zero_index = np.argwhere(matrix_2 == 0)\n",
    "print(zero_index)"
   ]
  },
  {
   "cell_type": "code",
   "execution_count": 8,
   "id": "18f69b77",
   "metadata": {},
   "outputs": [],
   "source": [
    "list_x =[]\n",
    "list_y = []\n",
    "\n",
    "for i in range(len(zero_index)):\n",
    "\n",
    "    for j in range(i + 1 ,len(zero_index)):\n",
    "        if zero_index[i,0] == zero_index[j,0]:\n",
    "            \n",
    "            list_x.append(zero_index[i,0])\n",
    "            n =  1\n",
    "        elif zero_index[i,1] == zero_index[j,1]:\n",
    "            n = 1\n",
    "            list_y.append(zero_index[i,1])"
   ]
  },
  {
   "cell_type": "code",
   "execution_count": 9,
   "id": "9671c7b1",
   "metadata": {},
   "outputs": [
    {
     "name": "stdout",
     "output_type": "stream",
     "text": [
      "0\n"
     ]
    }
   ],
   "source": [
    "#determine the end\n",
    "def end_loop(matrix_2):\n",
    "\n",
    "    row_uncovered = np.ones(row_num, dtype=bool)\n",
    "    col_uncovered = np.ones(col_num, dtype=bool)\n",
    "\n",
    "    marked = np.zeros((row_num, col_num), dtype=int)\n",
    "\n",
    "    for i, j in zip(*np.where(matrix_2 == 0)):\n",
    "        if col_uncovered[j] and row_uncovered[i]:\n",
    "            marked[i, j] = 1\n",
    "            col_uncovered[j] = False\n",
    "            row_uncovered[i] = False\n",
    "\n",
    "    row_uncovered[:] = True\n",
    "    col_uncovered[:] = True\n",
    "\n",
    "    marked = (marked == 1)\n",
    "    col_uncovered[np.any(marked, axis=0)] = False\n",
    "\n",
    "    if marked.sum() < row_num:\n",
    "        return 1\n",
    "    else:\n",
    "        return 0\n",
    "    \n",
    "flag = end_loop(matrix_2)\n",
    "print(flag)"
   ]
  },
  {
   "cell_type": "code",
   "execution_count": 10,
   "id": "bbea3ff5",
   "metadata": {},
   "outputs": [],
   "source": [
    "#optimal assignment\n",
    "\n",
    "def same_row_col(zero_index):\n",
    "    list_m =[]\n",
    "    list_n = []\n",
    "\n",
    "\n",
    "    for i in range(len(zero_index)):\n",
    "        for j in range(i+1 ,len(zero_index)):\n",
    "            if zero_index[i,0] == zero_index[j,0]:          \n",
    "                list_m.append(zero_index[i,0])\n",
    "            elif zero_index[i,1] == zero_index[j,1]:\n",
    "                list_n.append(zero_index[i,1])\n",
    "\n",
    "    \n",
    "           \n",
    "\n",
    "    list_a = []\n",
    "    list_b = []\n",
    "    for i in range(len(zero_index)):\n",
    "        if not(zero_index[i,0] in list_m and zero_index[i,1] in list_n):\n",
    "            list_a.append(zero_index[i,0])\n",
    "            list_b.append(zero_index[i,1])\n",
    " \n",
    "    for i in range(len(zero_index)):\n",
    "        for j in range(i+1 ,len(zero_index)):\n",
    "            if zero_index[i,0] in list_m and zero_index[i,1] in list_n:          \n",
    "                list_a.append(zero_index[i,0])\n",
    "                list_b.append(zero_index[i,1])\n",
    "                list_m.remove(zero_index[i,0])\n",
    "                list_n.remove(zero_index[i,1])\n",
    " \n",
    "                \n",
    "\n",
    "    return list_a, list_b\n",
    "\n",
    "                \n",
    "        \n",
    "\n",
    "def final_assignment(matrix_3):\n",
    "    zero_index = np.argwhere(matrix_3 == 0)\n",
    "    \n",
    "    list_doctor = []\n",
    "    list_hospital = []\n",
    "\n",
    "\n",
    "    list_doctor, list_hospital = same_row_col(zero_index)\n",
    "\n",
    " \n",
    "    return list_doctor, list_hospital"
   ]
  },
  {
   "cell_type": "code",
   "execution_count": 11,
   "id": "348ddd2b",
   "metadata": {},
   "outputs": [],
   "source": [
    "if flag:\n",
    "\n",
    "    while (flag):\n",
    "\n",
    "        #find the single zero index, not in the same row or same col with other zero\n",
    "        list_single_x = []\n",
    "        list_single_y = []\n",
    "        for i in range(len(zero_index)):\n",
    "            if zero_index[i,0] not in list_x and zero_index[i,1] not in list_y:\n",
    "                list_single_x.append(zero_index[i,0])\n",
    "                list_single_y.append(zero_index[i,1])\n",
    "                \n",
    "\n",
    "        \n",
    "        #find the min uncovered number and its index\n",
    "        min_update = matrix_2.max()\n",
    "        min_row_index = 0\n",
    "        min_col_index = 0\n",
    "        for i in range(row_num):\n",
    "            for j in range(col_num):\n",
    "                if i not in list_x and j not in list_y:\n",
    "                    if matrix_2[i,j]!=0 and matrix_2[i,j] < min_update:\n",
    "                        min_update = matrix_2[i,j]\n",
    "                        min_row_index = i\n",
    "                        min_col_index = j\n",
    "            \n",
    "   \n",
    "        # determine row or col of single zero which to use, and figure out the covered rows and cols\n",
    "        for i in range(len(list_single_x)):\n",
    "            if list_single_x[i] == min_row_index:\n",
    "                list_y.append(list_single_y[i])\n",
    "            else:\n",
    "                list_x.append(list_single_x[i])\n",
    "      \n",
    "        \n",
    "        #substract the min num from all uncovered elements and add it to all elements that are covered twice. Then get the updated matrix.\n",
    "       \n",
    "        for i in range(row_num):\n",
    "            for j in range(col_num):\n",
    "                if i in list_x and j in list_y:\n",
    "                    matrix_2[i,j] = matrix_2[i,j] + min_update\n",
    "                elif i not in list_x and j not in list_y:\n",
    "                    matrix_2[i,j] = matrix_2[i,j] - min_update\n",
    "                    \n",
    "        flag = end_loop(matrix_2)"
   ]
  },
  {
   "cell_type": "markdown",
   "id": "3d24a559",
   "metadata": {},
   "source": [
    "The final lists of assignment are returned."
   ]
  },
  {
   "cell_type": "code",
   "execution_count": 12,
   "id": "a4906307",
   "metadata": {},
   "outputs": [],
   "source": [
    "doc_final, hosp_final = final_assignment(matrix_2)"
   ]
  },
  {
   "cell_type": "markdown",
   "id": "c5a7a926",
   "metadata": {},
   "source": [
    "The dummy assignments are discarded and the final assignment is displayed."
   ]
  },
  {
   "cell_type": "code",
   "execution_count": 13,
   "id": "879c3806",
   "metadata": {},
   "outputs": [
    {
     "name": "stdout",
     "output_type": "stream",
     "text": [
      "[1, 2, 3, 4] [1, 3, 2, 2]\n",
      "   Doctor  Hospital\n",
      "0       1         1\n",
      "1       2         3\n",
      "2       3         2\n",
      "3       4         2\n"
     ]
    }
   ],
   "source": [
    "doc_final = [x+1 for x in doc_final]\n",
    "hosp_final = [x+1 for x in hosp_final]\n",
    "doc_final = doc_final[:doc]\n",
    "hosp_final = hosp_final[:doc]\n",
    "print(doc_final, hosp_final)\n",
    "df = pd.DataFrame({'Doctor' : doc_final[:doc], 'Hospital' : hosp_final[:doc]})   \n",
    "print(df)"
   ]
  },
  {
   "cell_type": "code",
   "execution_count": null,
   "id": "53690295",
   "metadata": {},
   "outputs": [],
   "source": []
  }
 ],
 "metadata": {
  "kernelspec": {
   "display_name": "Python 3 (ipykernel)",
   "language": "python",
   "name": "python3"
  },
  "language_info": {
   "codemirror_mode": {
    "name": "ipython",
    "version": 3
   },
   "file_extension": ".py",
   "mimetype": "text/x-python",
   "name": "python",
   "nbconvert_exporter": "python",
   "pygments_lexer": "ipython3",
   "version": "3.9.7"
  }
 },
 "nbformat": 4,
 "nbformat_minor": 5
}
