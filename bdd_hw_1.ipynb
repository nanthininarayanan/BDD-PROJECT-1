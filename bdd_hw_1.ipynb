{
 "cells": [
  {
   "cell_type": "code",
   "execution_count": 18,
   "id": "f55d2e4e",
   "metadata": {},
   "outputs": [],
   "source": [
    "from scipy.optimize import linear_sum_assignment\n",
    "import numpy as np"
   ]
  },
  {
   "cell_type": "code",
   "execution_count": 25,
   "id": "4b9b8515",
   "metadata": {},
   "outputs": [
    {
     "name": "stdout",
     "output_type": "stream",
     "text": [
      "the number of doctor:4\n",
      "the number of hospital:3\n",
      "the capacity of hospital:2\n"
     ]
    }
   ],
   "source": [
    "n = int(input(\"the number of doctor:\"))\n",
    "k = int( input(\"the number of hospital:\"))\n",
    "cap = int (input(\"the capacity of hospital:\"))"
   ]
  },
  {
   "cell_type": "code",
   "execution_count": 28,
   "id": "4f883357",
   "metadata": {},
   "outputs": [
    {
     "name": "stdout",
     "output_type": "stream",
     "text": [
      "4 3 2\n"
     ]
    }
   ],
   "source": [
    "print(n, k, cap)"
   ]
  },
  {
   "cell_type": "code",
   "execution_count": 31,
   "id": "4086d51d",
   "metadata": {},
   "outputs": [
    {
     "name": "stdout",
     "output_type": "stream",
     "text": [
      "enter my rate: 2,1,3\n",
      "enter my rate: 3,2,1\n",
      "enter my rate: 3,1,2\n",
      "enter my rate: 1,3,2\n",
      "[(2, 1, 3), (3, 2, 1), (3, 1, 2), (1, 3, 2)]\n"
     ]
    }
   ],
   "source": [
    "rate = []\n",
    "a = []\n",
    "for i in range(n):\n",
    "    a = eval(input(\"enter my rate: \"))\n",
    "    rate.append(a)\n",
    "print(rate)"
   ]
  },
  {
   "cell_type": "code",
   "execution_count": 42,
   "id": "636d47e1",
   "metadata": {},
   "outputs": [
    {
     "name": "stdout",
     "output_type": "stream",
     "text": [
      "[[2 1 3]\n",
      " [3 2 1]\n",
      " [3 1 2]\n",
      " [1 3 2]]\n"
     ]
    }
   ],
   "source": [
    "a = np.array(rate)\n",
    "print(a)"
   ]
  },
  {
   "cell_type": "code",
   "execution_count": 43,
   "id": "10d718ff",
   "metadata": {},
   "outputs": [
    {
     "name": "stdout",
     "output_type": "stream",
     "text": [
      "[[2 1 3 2 1 3]\n",
      " [3 2 1 3 2 1]\n",
      " [3 1 2 3 1 2]\n",
      " [1 3 2 1 3 2]]\n"
     ]
    }
   ],
   "source": [
    "\n",
    "c = np.append(a,a, axis = 1)\n",
    "print(c)"
   ]
  },
  {
   "cell_type": "code",
   "execution_count": 44,
   "id": "afdcd333",
   "metadata": {},
   "outputs": [
    {
     "name": "stdout",
     "output_type": "stream",
     "text": [
      "[[2 1 3 2 1 3]\n",
      " [3 2 1 3 2 1]\n",
      " [3 1 2 3 1 2]\n",
      " [1 3 2 1 3 2]\n",
      " [4 4 4 4 4 4]\n",
      " [4 4 4 4 4 4]]\n"
     ]
    }
   ],
   "source": [
    "count = k * cap - n\n",
    "\n",
    "for i in range(count):\n",
    "    c = np.row_stack((c,[4, 4, 4, 4, 4, 4]))\n",
    "print(b)"
   ]
  },
  {
   "cell_type": "code",
   "execution_count": 45,
   "id": "c49d9cef",
   "metadata": {},
   "outputs": [],
   "source": [
    "row_ind, col_ind = linear_sum_assignment(c)"
   ]
  },
  {
   "cell_type": "code",
   "execution_count": 46,
   "id": "9671c7b1",
   "metadata": {},
   "outputs": [
    {
     "name": "stdout",
     "output_type": "stream",
     "text": [
      "[1 1 1 1 4 4]\n"
     ]
    }
   ],
   "source": [
    "print(c[row_ind, col_ind])"
   ]
  },
  {
   "cell_type": "code",
   "execution_count": 48,
   "id": "bbea3ff5",
   "metadata": {},
   "outputs": [
    {
     "name": "stdout",
     "output_type": "stream",
     "text": [
      "2\n",
      "3\n",
      "2\n",
      "1\n"
     ]
    }
   ],
   "source": [
    "for i in range(n):\n",
    "    print(col_ind[i]%k + 1)"
   ]
  },
  {
   "cell_type": "code",
   "execution_count": null,
   "id": "348ddd2b",
   "metadata": {},
   "outputs": [],
   "source": []
  }
 ],
 "metadata": {
  "kernelspec": {
   "display_name": "Python 3 (ipykernel)",
   "language": "python",
   "name": "python3"
  },
  "language_info": {
   "codemirror_mode": {
    "name": "ipython",
    "version": 3
   },
   "file_extension": ".py",
   "mimetype": "text/x-python",
   "name": "python",
   "nbconvert_exporter": "python",
   "pygments_lexer": "ipython3",
   "version": "3.9.12"
  }
 },
 "nbformat": 4,
 "nbformat_minor": 5
}
